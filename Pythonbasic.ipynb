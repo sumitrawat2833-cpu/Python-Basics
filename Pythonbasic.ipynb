{
  "nbformat": 4,
  "nbformat_minor": 0,
  "metadata": {
    "colab": {
      "provenance": []
    },
    "kernelspec": {
      "name": "python3",
      "display_name": "Python 3"
    },
    "language_info": {
      "name": "python"
    }
  },
  "cells": [
    {
      "cell_type": "markdown",
      "source": [
        "# Python Basics\n"
      ],
      "metadata": {
        "id": "BJYrrAF6GsOA"
      }
    },
    {
      "cell_type": "markdown",
      "source": [
        "1. What is Python and why is it popular?\n",
        " - Python is a programming language that is easy to understand and write,    making it a popular choice among developers and programmers.\n",
        "It is compatible with various programming paradigms, such as procedural, object-oriented, and functional programming.\n",
        "Python has a large and active community of developers, an extensive standard library, and third-party packages for various domains.\n",
        "\n",
        "2. What is an interpreter in Python ?\n",
        " - An interpreter translates Python code into machine-readable instructions line by line during execution.\n",
        "\n",
        "3. What are pre-defined keywords in Python?\n",
        " - Keywords are reserved words that have special meaning and functionality in Python. Example: if, for, def, True, None, Class etc.\n",
        "\n",
        "4. Can Keywords be used as variable names?\n",
        " - No Keywords are reserved and cannot be used as variable names. It will throw a syntax error.\n",
        "\n",
        "5. What is mutability in Python?\n",
        " - Mutability refers to whether an objet's value can change after it's been created.\n",
        " - Example: list, Dictionary, Set etc.\n",
        "\n",
        "6.  Why are lists mutable, but tuples are immutable?\n",
        " - List allow modifications like appending or changing elements-they are built to be flexible.\n",
        " - Tuples, by design, are static and meant for fixed collections. Their immutability offers performance and safety.\n",
        "\n",
        "7.  What is the difference between “==” and “is” operators in Python?\n",
        " - \"==\" operators compares value to show that both the values are same\n",
        " - \"is\" operator on other assign the value to the variables\n",
        "\n",
        "8. what are logical operators in Python?\n",
        " - logical operators are used to combine condition statements or boolean expressions allowing to evaluate multiple conditions in a single statement. They return a Boolean value (True or False) based on the logic applied. Python provides three logical operators: and, or and not\n",
        "\n",
        "9. What is type casting in Python?\n",
        " - Type casting in Python refers to the process of converting one data type into another. It is often used to ensure compatibility between different data types during operations.\n",
        "\n",
        "10. What is the difference between implicit and explicit type casting?\n",
        " - Implicit type casting : The python interpreter automatically convers one data type to another without requiring user intervention.\n",
        " - Explicit Type casting : The user manually converts a variable's Data type using built-in functions like int(), float(), str(),etc.\n",
        "\n",
        "11. What is the purpose of conditional statements in Python?\n",
        " - Conditional statements in Python are used to control the flow of a program by executing specific blocks of code based on whether certain conditions are true or false. They allow programs to make decisions and behave differently in various situations. Common Conditional Statements in Python:\n",
        " - \"if Statement\": Executes a block of code if a condition is true.\n",
        " - \"if-else Statement\": Executes one block of code if a condition is true, and another if it is false.\n",
        " -\"if-elif-else Statement\": Tests multiple conditions in sequence and    executes the block corresponding to the first true condition.\n",
        "\n",
        "\n",
        "12. How does the elif statement work?\n",
        "      \n",
        " - The elif keyword stands for \"else if\" and is used to add additional conditions to an if statement. It allows for more than two possible execution paths in your code, making it easier to handle multiple conditions without deeply nested if statements.\n",
        " -The basic syntax of an if, elif, and else structure is as follows:\n",
        " -if condition1:\n",
        " # Execute this block if condition1 is true\n",
        " elif condition2:\n",
        " # Execute this block if condition2 is true\n",
        " elif condition3:\n",
        " # Execute this block if condition3 is true\n",
        " else:\n",
        " # Execute this block if none of the above conditions are true\n",
        "\n",
        "13.  What is the difference between for and while loops?\n",
        "  - A for loop is typically used when the number of iterations is known beforehand, such as when iterating over a range of numbers or elements in a list. It has a structured format that includes initialization, condition checking, and incrementing—all in one line—making it ideal for predictable, sequential tasks.\n",
        " - On the other hand, a while loop is more flexible and is used when the number of iterations is not predetermined. It continues to execute as long as a specified condition remains true, which makes it suitable for dynamic scenarios like waiting for user input, monitoring sensor data, or handling complex conditions that evolve during runtime.\n",
        "\n",
        "14. Describe a scenario where a while loop is more suitable than a for loop.\n",
        " - A scenario where a while loop is more suitable than a for loop is when you're waiting for a specific user input to terminate the loop. For example, imagine you're building a simple command-line chatbot that keeps responding to the user until they type \"quit\". In this case, the number of interactions is unknown and depends entirely on the user's behavior. A while loop allows the program to continue running as long as the input is not \"quit\", making it ideal for such dynamic, condition-driven tasks. Using a for loop here would be impractical because you can't predict how many times the user will interact\n",
        "  "
      ],
      "metadata": {
        "id": "ZtGSYyqegB3J"
      }
    },
    {
      "cell_type": "markdown",
      "source": [
        "# Practical Python Basics\n"
      ],
      "metadata": {
        "id": "Bmgeu1faN0VQ"
      }
    },
    {
      "cell_type": "markdown",
      "source": [
        "#Question 1."
      ],
      "metadata": {
        "id": "4FZpAcO7ixoq"
      }
    },
    {
      "cell_type": "code",
      "execution_count": 1,
      "metadata": {
        "id": "d1nXxA38fwat",
        "colab": {
          "base_uri": "https://localhost:8080/"
        },
        "outputId": "91e1f710-b304-4e8a-de7a-85a4b6b5552f"
      },
      "outputs": [
        {
          "output_type": "stream",
          "name": "stdout",
          "text": [
            "Hello, World!\n"
          ]
        }
      ],
      "source": [
        "# Write a python program to print \"Hello, World!\"\n",
        "\n",
        "print(\"Hello, World!\")"
      ]
    },
    {
      "cell_type": "markdown",
      "source": [
        "#Question 2"
      ],
      "metadata": {
        "id": "Y4CgTMZri1NY"
      }
    },
    {
      "cell_type": "code",
      "source": [
        "# Write a python program that displays your name and age.\n",
        "\n",
        "name = input(\"Enter your name:\")\n",
        "age = input(\"Entre your age:\")\n",
        "print( name, age )"
      ],
      "metadata": {
        "colab": {
          "base_uri": "https://localhost:8080/"
        },
        "id": "hfEav978OZZi",
        "outputId": "6fdeb633-fadd-4884-d82f-670ddcf018aa"
      },
      "execution_count": 5,
      "outputs": [
        {
          "output_type": "stream",
          "name": "stdout",
          "text": [
            "Enter your name:Sumit Rawat\n",
            "Entre your age:25\n",
            "Sumit Rawat 25\n"
          ]
        }
      ]
    },
    {
      "cell_type": "markdown",
      "source": [
        "#Question 3.\n"
      ],
      "metadata": {
        "id": "Sv2LfcDIi4Uu"
      }
    },
    {
      "cell_type": "code",
      "source": [
        "# Write code to print all the pre-defined keywords in Python using the keyword library\n",
        "\n",
        "import keyword\n",
        "\n",
        "print(keyword.kwlist)\n",
        "\n"
      ],
      "metadata": {
        "colab": {
          "base_uri": "https://localhost:8080/"
        },
        "id": "myXKJdwTPoMY",
        "outputId": "4645d434-5190-41e2-82d2-aebff24877c0"
      },
      "execution_count": 15,
      "outputs": [
        {
          "output_type": "stream",
          "name": "stdout",
          "text": [
            "['False', 'None', 'True', 'and', 'as', 'assert', 'async', 'await', 'break', 'class', 'continue', 'def', 'del', 'elif', 'else', 'except', 'finally', 'for', 'from', 'global', 'if', 'import', 'in', 'is', 'lambda', 'nonlocal', 'not', 'or', 'pass', 'raise', 'return', 'try', 'while', 'with', 'yield']\n"
          ]
        }
      ]
    },
    {
      "cell_type": "markdown",
      "source": [
        "#Question 4\n"
      ],
      "metadata": {
        "id": "MIX1-q5ci7la"
      }
    },
    {
      "cell_type": "code",
      "source": [
        "#Write a program that checks if a given word is a Python keyword.\n",
        "word = input(\"Enter a word:\")\n",
        "if keyword.iskeyword(word):\n",
        "  print(word, \"is a python Keyword\")\n",
        "else:\n",
        "  print(word, \"is not a python Keyword\")"
      ],
      "metadata": {
        "colab": {
          "base_uri": "https://localhost:8080/"
        },
        "id": "Lz8iBTgrQqWq",
        "outputId": "8e4c4e1b-d332-496c-d301-fbd06421bad3"
      },
      "execution_count": 16,
      "outputs": [
        {
          "output_type": "stream",
          "name": "stdout",
          "text": [
            "Enter a word:int\n",
            "int is not a python Keyword\n"
          ]
        }
      ]
    },
    {
      "cell_type": "markdown",
      "source": [
        "#Question 5\n"
      ],
      "metadata": {
        "id": "n-jKeMRfi_Fo"
      }
    },
    {
      "cell_type": "code",
      "source": [
        "# Create a list and tuple in Python, and demonstrate how attempting to change an element works differently for each.\n",
        "\n",
        "my_list = [1, 2, 3, 4, 5]    #creating a list and a tuple\n",
        "my_tuple = (1, 2, 3, 4, 5)\n",
        "\n",
        "#modifying the list using append\n",
        "\n",
        "my_list.append(6)\n",
        "print(\"Modified list:\", my_list)\n",
        "\n",
        "  # attempting to modify the tuple using append (will raise an error )\n",
        "\n",
        "try:\n",
        "    my_tuple.append(6)\n",
        "except AttributeError as e:\n",
        "    print(\"Error:\", e)"
      ],
      "metadata": {
        "colab": {
          "base_uri": "https://localhost:8080/"
        },
        "id": "NdnS6cg2SNYo",
        "outputId": "22a4675b-28e3-41f9-bf0a-b93a61e19a61"
      },
      "execution_count": 21,
      "outputs": [
        {
          "output_type": "stream",
          "name": "stdout",
          "text": [
            "Modified list: [1, 2, 3, 4, 5, 6]\n",
            "Error: 'tuple' object has no attribute 'append'\n"
          ]
        }
      ]
    },
    {
      "cell_type": "markdown",
      "source": [
        "#Question 6.\n",
        "\n"
      ],
      "metadata": {
        "id": "UhonZPo4jC5O"
      }
    },
    {
      "cell_type": "code",
      "source": [
        "#Write a function to demonstrate the behavior of mutable and immutable arguments.\n",
        "def modify_arguments(mutable_arg, immutable_arg):\n",
        "    # Modify the mutable argument (list)\n",
        "    mutable_arg.append(100)\n",
        "\n",
        "    # Try to modify the immutable argument (int)\n",
        "    immutable_arg += 100\n",
        "\n",
        "    print(\"Inside function:\")\n",
        "    print(\"Mutable:\", mutable_arg)\n",
        "    print(\"Immutable:\", immutable_arg)\n",
        "\n",
        "# Original values\n",
        "my_list = [1, 2, 3]\n",
        "my_int = 10\n",
        "\n",
        "# Call the function\n",
        "modify_arguments(my_list, my_int)\n",
        "\n",
        "print(\"\\nOutside function:\")\n",
        "print(\"Mutable:\", my_list)       # List is changed\n",
        "print(\"Immutable:\", my_int)      # Integer remains unchanged\n",
        "\n",
        "'''\n",
        "Mutable Argument (my_list):\n",
        "\n",
        "Lists are mutable, so changes inside the function (like append)\n",
        "affect the original list outside the function.\n",
        "'''\n",
        "'''\n",
        "Immutable Argument (my_int):\n",
        "\n",
        "Integers are immutable. The operation immutable_arg += 100 creates\n",
        "a new integer object inside the function, leaving the original my_int unchanged.\n",
        "\n",
        "'''"
      ],
      "metadata": {
        "id": "nDer0EueUmFw"
      },
      "execution_count": null,
      "outputs": []
    },
    {
      "cell_type": "markdown",
      "source": [
        "#Question 7.\n"
      ],
      "metadata": {
        "id": "9lwW6uQxiprg"
      }
    },
    {
      "cell_type": "code",
      "source": [
        "# Write a program that performs basic arithmetic operations on two user-input numbers.\n",
        "\n",
        "num1 = int(input(\"Enter the first number: \"))\n",
        "num2 = int(input(\"Enter the second number: \"))\n",
        "\n",
        "# Perform arithmetic operations\n",
        "addition = num1 + num2\n",
        "subtract = num1 - num2\n",
        "multiply = num1 * num2\n",
        "\n",
        "# Check for division by zero before performing division\n",
        "if num2 != 0:\n",
        "  division = num1 / num2\n",
        "  floor_division = num1 // num2\n",
        "  modulo = num1 % num2\n",
        "else:\n",
        "  division = \"Cannot divide by zero\"\n",
        "  floor_division = \"Cannot divide by zero\"\n",
        "  modulo = \"Cannot calculate modulo with zero\"\n",
        "\n",
        "\n",
        "# Print the results\n",
        "print(f\"Addition: {addition}\")\n",
        "print(f\"Subtraction: {subtract}\")\n",
        "print(f\"Multiplication: {multiply}\")\n",
        "print(f\"Division: {division}\")\n",
        "print(f\"Floor Division: {floor_division}\")\n",
        "print(f\"Modulo: {modulo}\")"
      ],
      "metadata": {
        "colab": {
          "base_uri": "https://localhost:8080/"
        },
        "id": "f5EyZBMfXjmX",
        "outputId": "52d1d996-3c02-4e24-f3e8-2076a8e97ec6"
      },
      "execution_count": 24,
      "outputs": [
        {
          "output_type": "stream",
          "name": "stdout",
          "text": [
            "Enter the first number: 24\n",
            "Enter the second number: 12\n",
            "Addition: 36\n",
            "Subtraction: 12\n",
            "Multiplication: 288\n",
            "Division: 2.0\n",
            "Floor Division: 2\n",
            "Modulo: 0\n"
          ]
        }
      ]
    },
    {
      "cell_type": "markdown",
      "source": [
        "#Question 8."
      ],
      "metadata": {
        "id": "C9ZQVDuRbc3r"
      }
    },
    {
      "cell_type": "code",
      "source": [
        "# \"Write a program to demonstrate the use of logical operators.\"\n",
        "\n",
        "# Define some variables\n",
        "a = True\n",
        "b = False\n",
        "\n",
        "# Using logical AND\n",
        "print(\"a and b:\", a and b)  # False, because both must be True\n",
        "\n",
        "# Using logical OR\n",
        "print(\"a or b:\", a or b)    # True, because at least one is True\n",
        "\n",
        "# Using logical NOT\n",
        "print(\"not a:\", not a)      # False, because a is True\n",
        "print(\"not b:\", not b)      # True, because b is False\n",
        "\n",
        "# Practical example with conditions\n",
        "x = 10\n",
        "y = 5\n",
        "\n",
        "if x > 0 and y > 0:\n",
        "    print(\"Both x and y are positive.\")\n",
        "\n",
        "if x > 0 or y < 0:\n",
        "    print(\"At least one condition is true.\")\n",
        "\n",
        "if not (x < 0):\n",
        "    print(\"x is not negative.\")\n"
      ],
      "metadata": {
        "colab": {
          "base_uri": "https://localhost:8080/"
        },
        "id": "Ty1tWYI6YUJI",
        "outputId": "d0b155a3-c56c-4748-c60f-158f1f8f6559"
      },
      "execution_count": 27,
      "outputs": [
        {
          "output_type": "stream",
          "name": "stdout",
          "text": [
            "a and b: False\n",
            "a or b: True\n",
            "not a: False\n",
            "not b: True\n",
            "Both x and y are positive.\n",
            "At least one condition is true.\n",
            "x is not negative.\n"
          ]
        }
      ]
    },
    {
      "cell_type": "markdown",
      "source": [
        "#Question 9.\n"
      ],
      "metadata": {
        "id": "T2EHgKmMbSTU"
      }
    },
    {
      "cell_type": "code",
      "source": [
        "#\"Write a Python program to convert user input from string to integer, float, and boolean types.\"\n",
        "\n",
        "# Get input from user\n",
        "user_input = input(\"Enter something: \")\n",
        "\n",
        "# Convert and print\n",
        "print(\"As Integer:\", int(user_input))     # Works if input is a whole number\n",
        "print(\"As Float:\", float(user_input))     # Works if input is a number (int or decimal)\n",
        "print(\"As Boolean:\", bool(user_input))    # True if input is not empty\n"
      ],
      "metadata": {
        "colab": {
          "base_uri": "https://localhost:8080/"
        },
        "id": "iaZ4xF9tZMAI",
        "outputId": "b2c26bf1-5a00-47c6-8fe4-dd941297e6de"
      },
      "execution_count": 34,
      "outputs": [
        {
          "output_type": "stream",
          "name": "stdout",
          "text": [
            "Enter something: 448\n",
            "As Integer: 448\n",
            "As Float: 448.0\n",
            "As Boolean: True\n"
          ]
        }
      ]
    },
    {
      "cell_type": "code",
      "source": [
        "# Get user input as a string\n",
        "user_input = input(\"Enter a value: \")\n",
        "\n",
        "# Convert to integer\n",
        "try:\n",
        "    int_value = int(user_input)\n",
        "    print(\"Integer:\", int_value)\n",
        "except ValueError:\n",
        "    print(\"Cannot convert to integer.\")\n",
        "\n",
        "# Convert to float\n",
        "try:\n",
        "    float_value = float(user_input)\n",
        "    print(\"Float:\", float_value)\n",
        "except ValueError:\n",
        "    print(\"Cannot convert to float.\")\n",
        "\n",
        "# Convert to boolean\n",
        "bool_value = bool(user_input)\n",
        "print(\"Boolean:\", bool_value)\n"
      ],
      "metadata": {
        "colab": {
          "base_uri": "https://localhost:8080/"
        },
        "id": "cUs7G9hEa-C1",
        "outputId": "04a7eb2b-f6a1-4bb7-c507-81539592a8da"
      },
      "execution_count": 36,
      "outputs": [
        {
          "output_type": "stream",
          "name": "stdout",
          "text": [
            "Enter a value: \n",
            "Cannot convert to integer.\n",
            "Cannot convert to float.\n",
            "Boolean: False\n"
          ]
        }
      ]
    },
    {
      "cell_type": "markdown",
      "source": [
        "#Question 10\n"
      ],
      "metadata": {
        "id": "TMLeYW0AblH5"
      }
    },
    {
      "cell_type": "code",
      "source": [
        "# Write code to demonstrate type casting with list elements.\n",
        "\n",
        "My_list = [1, 2.5, \"Sumit\", \"true\"]\n",
        "for element in My_list:\n",
        "  print(element, type(element))"
      ],
      "metadata": {
        "colab": {
          "base_uri": "https://localhost:8080/"
        },
        "id": "k7tk437rbAYR",
        "outputId": "dc5dd4ba-c85a-4171-d75a-240e79b39b32"
      },
      "execution_count": 45,
      "outputs": [
        {
          "output_type": "stream",
          "name": "stdout",
          "text": [
            "1 <class 'int'>\n",
            "2.5 <class 'float'>\n",
            "Sumit <class 'str'>\n",
            "true <class 'str'>\n"
          ]
        }
      ]
    },
    {
      "cell_type": "markdown",
      "source": [
        "# Question 11."
      ],
      "metadata": {
        "id": "JpZ4H8yadCsn"
      }
    },
    {
      "cell_type": "code",
      "source": [
        "#Write a program that checks if a number is positive, negative, or zero.\n",
        "\n",
        "num = int(input(\"Enter a number: \"))\n",
        "\n",
        "if num > 0:\n",
        "    print(\"The number is positive.\")\n",
        "elif num < 0:\n",
        "    print(\"The number is negative.\")\n",
        "else:\n",
        "    print(\"The number is zero.\")\n"
      ],
      "metadata": {
        "colab": {
          "base_uri": "https://localhost:8080/"
        },
        "id": "A_rFkkJIcSGW",
        "outputId": "46b67520-9a7a-476e-dc29-a09b0c74ebae"
      },
      "execution_count": 46,
      "outputs": [
        {
          "output_type": "stream",
          "name": "stdout",
          "text": [
            "Enter a number: -2\n",
            "The number is negative.\n"
          ]
        }
      ]
    },
    {
      "cell_type": "markdown",
      "source": [
        "#Question 12."
      ],
      "metadata": {
        "id": "V2H412wedZPP"
      }
    },
    {
      "cell_type": "code",
      "source": [
        "#Write a for loop to print numbers from 1 to 10.\n",
        "\n",
        "for i in range(1,11):\n",
        "  print(i, end=\", \")\n"
      ],
      "metadata": {
        "colab": {
          "base_uri": "https://localhost:8080/"
        },
        "id": "rAKt7ezKdUTW",
        "outputId": "44a0806c-0d76-4119-f92b-664f71758113"
      },
      "execution_count": 51,
      "outputs": [
        {
          "output_type": "stream",
          "name": "stdout",
          "text": [
            "1, 2, 3, 4, 5, 6, 7, 8, 9, 10, "
          ]
        }
      ]
    },
    {
      "cell_type": "markdown",
      "source": [
        "#Question 13.\n"
      ],
      "metadata": {
        "id": "3Fc75W4eeB0i"
      }
    },
    {
      "cell_type": "code",
      "source": [
        "#Write a Python program to find the sum of all even numbers between 1 and 50.\n",
        "total = 0\n",
        "\n",
        "for num in range(1, 51,):\n",
        "    if num % 2 == 0:\n",
        "      total = total + num\n",
        "print(\"The sum of all even numbers between 1 to 50 is:\", total)"
      ],
      "metadata": {
        "colab": {
          "base_uri": "https://localhost:8080/"
        },
        "id": "wFwE7OcDdxqq",
        "outputId": "c48a51a6-f212-49f0-dfb6-27d301e1513f"
      },
      "execution_count": 57,
      "outputs": [
        {
          "output_type": "stream",
          "name": "stdout",
          "text": [
            "The sum of all even numbers between 1 to 50 is: 650\n"
          ]
        }
      ]
    },
    {
      "cell_type": "markdown",
      "source": [
        "#Question 14"
      ],
      "metadata": {
        "id": "xF1aiDzef6oz"
      }
    },
    {
      "cell_type": "code",
      "source": [
        "#Write a program to reverse a string using a while loop.\n",
        "text = input(\"Enter a string: \")\n",
        "\n",
        "reversed_text = \"\"\n",
        "index = len(text) - 1\n",
        "\n",
        "while index >= 0:\n",
        "    reversed_text += text[index]\n",
        "    index -= 1\n",
        "\n",
        "print(\"Reversed text:\", reversed_text)\n",
        "\n"
      ],
      "metadata": {
        "colab": {
          "base_uri": "https://localhost:8080/"
        },
        "id": "JzoTAA47euOz",
        "outputId": "9ffbe44f-f11b-4f96-86a0-5992fe774d76"
      },
      "execution_count": 58,
      "outputs": [
        {
          "output_type": "stream",
          "name": "stdout",
          "text": [
            "Enter a string: Good Morning\n",
            "Reversed text: gninroM dooG\n"
          ]
        }
      ]
    },
    {
      "cell_type": "markdown",
      "source": [
        "#Question 15.\n"
      ],
      "metadata": {
        "id": "UVT6PBJNhb7W"
      }
    },
    {
      "cell_type": "code",
      "source": [
        "# Write a Python program to calculate the factorial of a number provided by the user using a while loop.\n",
        "\n",
        "num = int(input(\"Enter a number: \"))\n",
        "factorial = 1\n",
        "current = 1\n",
        "\n",
        "while current <= num:\n",
        "    factorial *= current\n",
        "    current += 1\n",
        "\n",
        "print(f\"The factorial of {num} is {factorial}\")\n",
        ""
      ],
      "metadata": {
        "colab": {
          "base_uri": "https://localhost:8080/"
        },
        "id": "hiDZUHa2gdGX",
        "outputId": "bc078d51-be39-45d4-8beb-e996e999cb24"
      },
      "execution_count": 64,
      "outputs": [
        {
          "output_type": "stream",
          "name": "stdout",
          "text": [
            "Enter a number: 4\n",
            "The factorial of 4 is 24\n"
          ]
        }
      ]
    },
    {
      "cell_type": "code",
      "source": [],
      "metadata": {
        "id": "bmOsz-Gnh0io"
      },
      "execution_count": 62,
      "outputs": []
    }
  ]
}